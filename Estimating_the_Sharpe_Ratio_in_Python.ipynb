{
  "cells": [
    {
      "cell_type": "markdown",
      "metadata": {
        "id": "gkF9I-HSf1lL"
      },
      "source": [
        "## Estimating the Sharpe Ratio in Python"
      ]
    },
    {
      "cell_type": "markdown",
      "metadata": {
        "id": "ekOZVKkTf1lP"
      },
      "source": [
        "Obtain data for Microsoft and S&P 500 for the period 1st of January 2012 – 31st of December 2016 from Yahoo Finance. \n",
        "Let S&P 500 act as the market. \n",
        "Calculate the beta of Microsoft. <br />\n",
        "\n",
        "Assume a risk-free rate of 2.5% and a risk premium of 5%.<br />\n",
        "Estimate the expected return of Microsoft.\n",
        "\n"
      ]
    },
    {
      "cell_type": "code",
      "execution_count": null,
      "metadata": {
        "id": "re55WJsKf1lP"
      },
      "outputs": [],
      "source": [
        "import numpy as np\n",
        "import pandas as pd\n",
        "from pandas_datareader import data as wb\n",
        "\n",
        "tickers = ['MSFT', '^GSPC']\n",
        "data = pd.DataFrame()\n",
        "for t in tickers:\n",
        "    data[t] = wb.DataReader(t, data_source='yahoo', start='2012-1-1', end='2016-12-31')['Adj Close']  \n",
        "    \n",
        "sec_returns = np.log( data / data.shift(1) )\n",
        "cov = sec_returns.cov() * 250\n",
        "cov_with_market = cov.iloc[0,1]\n",
        "market_var = sec_returns['^GSPC'].var() * 250\n",
        "\n",
        "MSFT_beta = cov_with_market / market_var\n",
        "MSFT_er = 0.025 + MSFT_beta * 0.05"
      ]
    },
    {
      "cell_type": "markdown",
      "metadata": {
        "id": "KQgleeJmf1lQ"
      },
      "source": [
        "Calculate the Sharpe ratio in Python."
      ]
    },
    {
      "cell_type": "markdown",
      "metadata": {
        "id": "NcBWZzHFf1lR"
      },
      "source": [
        "**Sharpe ratio:**\n",
        "### $$\n",
        "Sharpe = \\frac{\\overline{r_{pg}} - r_f}{\\sigma_{pg}}\n",
        "$$"
      ]
    },
    {
      "cell_type": "code",
      "execution_count": null,
      "metadata": {
        "id": "t5Dd307qf1lR",
        "outputId": "68cca76a-8060-4535-c679-48afee6a5259"
      },
      "outputs": [
        {
          "data": {
            "text/plain": [
              "0.23999694762494514"
            ]
          },
          "execution_count": 2,
          "metadata": {},
          "output_type": "execute_result"
        }
      ],
      "source": [
        "Sharpe = (MSFT_er - 0.025) / (sec_returns['MSFT'].std() * 250 ** 0.5)\n",
        "Sharpe"
      ]
    }
  ],
  "metadata": {
    "anaconda-cloud": {},
    "kernelspec": {
      "display_name": "Python 3",
      "language": "python",
      "name": "python3"
    },
    "language_info": {
      "codemirror_mode": {
        "name": "ipython",
        "version": 3
      },
      "file_extension": ".py",
      "mimetype": "text/x-python",
      "name": "python",
      "nbconvert_exporter": "python",
      "pygments_lexer": "ipython3",
      "version": "3.7.0"
    },
    "colab": {
      "provenance": []
    }
  },
  "nbformat": 4,
  "nbformat_minor": 0
}