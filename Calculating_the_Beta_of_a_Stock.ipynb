{
  "cells": [
    {
      "cell_type": "markdown",
      "metadata": {
        "id": "DA-mN-5fpWVm"
      },
      "source": [
        "## Calculating the Beta of a Stock"
      ]
    },
    {
      "cell_type": "markdown",
      "metadata": {
        "id": "4zpDQq95pWVs"
      },
      "source": [
        "Obtain data for Microsoft and S&P 500 for the period 1st of January 2012 – 31st of December 2016 from Yahoo Finance. "
      ]
    },
    {
      "cell_type": "code",
      "execution_count": null,
      "metadata": {
        "id": "3Ftgr9uWpWVt"
      },
      "outputs": [],
      "source": [
        "import numpy as np\n",
        "import pandas as pd\n",
        "from pandas_datareader import data as wb\n",
        "\n",
        "tickers = ['MSFT', '^GSPC']\n",
        "data = pd.DataFrame()\n",
        "for t in tickers:\n",
        "    data[t] = wb.DataReader(t, data_source='yahoo', start='2012-1-1', end='2016-12-31')['Adj Close']   "
      ]
    },
    {
      "cell_type": "markdown",
      "metadata": {
        "id": "UZK26PavpWVu"
      },
      "source": [
        "Let S&P 500 act as the market. "
      ]
    },
    {
      "cell_type": "markdown",
      "metadata": {
        "id": "QsHDOJgEpWVu"
      },
      "source": [
        "*****"
      ]
    },
    {
      "cell_type": "markdown",
      "metadata": {
        "id": "CyXNPNzVpWVv"
      },
      "source": [
        "Calculate the beta of Microsoft."
      ]
    },
    {
      "cell_type": "code",
      "execution_count": null,
      "metadata": {
        "id": "Jf44Gq6tpWVv"
      },
      "outputs": [],
      "source": [
        "sec_returns = np.log( data / data.shift(1) )"
      ]
    },
    {
      "cell_type": "code",
      "execution_count": null,
      "metadata": {
        "scrolled": true,
        "id": "lWFqz1t4pWVw",
        "outputId": "ac53c70b-2dd1-4d35-ef56-bd009478d6cf"
      },
      "outputs": [
        {
          "data": {
            "text/html": [
              "<div>\n",
              "<style scoped>\n",
              "    .dataframe tbody tr th:only-of-type {\n",
              "        vertical-align: middle;\n",
              "    }\n",
              "\n",
              "    .dataframe tbody tr th {\n",
              "        vertical-align: top;\n",
              "    }\n",
              "\n",
              "    .dataframe thead th {\n",
              "        text-align: right;\n",
              "    }\n",
              "</style>\n",
              "<table border=\"1\" class=\"dataframe\">\n",
              "  <thead>\n",
              "    <tr style=\"text-align: right;\">\n",
              "      <th></th>\n",
              "      <th>MSFT</th>\n",
              "      <th>^GSPC</th>\n",
              "    </tr>\n",
              "  </thead>\n",
              "  <tbody>\n",
              "    <tr>\n",
              "      <th>MSFT</th>\n",
              "      <td>0.053781</td>\n",
              "      <td>0.018213</td>\n",
              "    </tr>\n",
              "    <tr>\n",
              "      <th>^GSPC</th>\n",
              "      <td>0.018213</td>\n",
              "      <td>0.016362</td>\n",
              "    </tr>\n",
              "  </tbody>\n",
              "</table>\n",
              "</div>"
            ],
            "text/plain": [
              "           MSFT     ^GSPC\n",
              "MSFT   0.053781  0.018213\n",
              "^GSPC  0.018213  0.016362"
            ]
          },
          "execution_count": 3,
          "metadata": {},
          "output_type": "execute_result"
        }
      ],
      "source": [
        "cov = sec_returns.cov() * 250\n",
        "cov"
      ]
    },
    {
      "cell_type": "code",
      "execution_count": null,
      "metadata": {
        "id": "kwokZ1CFpWVx",
        "outputId": "3b1f0478-521c-40e5-b101-164fc513ad28"
      },
      "outputs": [
        {
          "data": {
            "text/plain": [
              "0.01821276615441708"
            ]
          },
          "execution_count": 4,
          "metadata": {},
          "output_type": "execute_result"
        }
      ],
      "source": [
        "cov_with_market = cov.iloc[0,1]\n",
        "cov_with_market"
      ]
    },
    {
      "cell_type": "code",
      "execution_count": null,
      "metadata": {
        "scrolled": true,
        "id": "1fZELSRMpWVx",
        "outputId": "82e48e4a-8219-4cea-b0a5-f46b64f168eb"
      },
      "outputs": [
        {
          "data": {
            "text/plain": [
              "0.016361631002308474"
            ]
          },
          "execution_count": 5,
          "metadata": {},
          "output_type": "execute_result"
        }
      ],
      "source": [
        "market_var = sec_returns['^GSPC'].var() * 250\n",
        "market_var"
      ]
    },
    {
      "cell_type": "markdown",
      "metadata": {
        "id": "G8JX8N7WpWVy"
      },
      "source": [
        "** Beta: **\n",
        "### $$ \n",
        "\\beta_{pg} = \\frac{\\sigma_{pg,m}}{\\sigma_{m}^2}\n",
        "$$"
      ]
    },
    {
      "cell_type": "code",
      "execution_count": null,
      "metadata": {
        "id": "h6Y_QOzQpWVy",
        "outputId": "98fc7ac3-235b-4e7f-cbbf-4d7763393eaa"
      },
      "outputs": [
        {
          "data": {
            "text/plain": [
              "1.1131387911050816"
            ]
          },
          "execution_count": 6,
          "metadata": {},
          "output_type": "execute_result"
        }
      ],
      "source": [
        "MSFT_beta = cov_with_market / market_var\n",
        "MSFT_beta"
      ]
    }
  ],
  "metadata": {
    "anaconda-cloud": {},
    "kernelspec": {
      "display_name": "Python 3",
      "language": "python",
      "name": "python3"
    },
    "language_info": {
      "codemirror_mode": {
        "name": "ipython",
        "version": 3
      },
      "file_extension": ".py",
      "mimetype": "text/x-python",
      "name": "python",
      "nbconvert_exporter": "python",
      "pygments_lexer": "ipython3",
      "version": "3.7.0"
    },
    "colab": {
      "provenance": []
    }
  },
  "nbformat": 4,
  "nbformat_minor": 0
}